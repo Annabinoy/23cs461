{
 "cells": [
  {
   "cell_type": "code",
   "execution_count": 4,
   "metadata": {},
   "outputs": [],
   "source": [
    "import numpy as np\n",
    "\n",
    "big_integer = int(1e6)\n",
    "d_k = 25"
   ]
  },
  {
   "cell_type": "code",
   "execution_count": 5,
   "metadata": {},
   "outputs": [
    {
     "name": "stdout",
     "output_type": "stream",
     "text": [
      "-0.00    1.00\n",
      "-0.00    1.00\n"
     ]
    }
   ],
   "source": [
    "mean = 0\n",
    "variance = 1\n",
    "\n",
    "q = np.random.normal(mean, variance, (big_integer, d_k))\n",
    "print(f\"{np.mean(q):.2f}    {np.std(q):.2f}\")\n",
    "\n",
    "k = np.random.normal(mean, variance, (big_integer, d_k))\n",
    "print(f\"{np.mean(k):.2f}    {np.std(k):.2f}\")"
   ]
  },
  {
   "cell_type": "code",
   "execution_count": 6,
   "metadata": {},
   "outputs": [
    {
     "name": "stdout",
     "output_type": "stream",
     "text": [
      "0.0036    4.9991\n"
     ]
    }
   ],
   "source": [
    "qk = q * k             # qk.shape = (big_integer, d_k)\n",
    "qk = (qk).sum(axis=1)  # qk.shape = (big_integer, )\n",
    "print(f\"{np.mean(qk):.4f}    {np.std(qk):.4f}\")"
   ]
  },
  {
   "cell_type": "markdown",
   "metadata": {},
   "source": [
    "4.9991 is almost equal to $\\sqrt{d_k} = \\sqrt{25} = 5$\n",
    "\n",
    "> To illustrate why the dot products get large, assume that the components of $q$ and $k$ are independent random variables with mean 0 and variance 1. Then their dot product, $q \\cdot k = \\sum_{i=1}^{d_k} q_ik_i$, has mean 0 and variance $d_k$.\n",
    "\n",
    "So the statement from the paper \"Attention is All You Need\" is slightly erroneous. The variance should br $\\sqrt{d_k}$ instead of $d_k$."
   ]
  }
 ],
 "metadata": {
  "kernelspec": {
   "display_name": "Python 3 (ipykernel)",
   "language": "python",
   "name": "python3"
  },
  "language_info": {
   "codemirror_mode": {
    "name": "ipython",
    "version": 3
   },
   "file_extension": ".py",
   "mimetype": "text/x-python",
   "name": "python",
   "nbconvert_exporter": "python",
   "pygments_lexer": "ipython3",
   "version": "3.10.12"
  }
 },
 "nbformat": 4,
 "nbformat_minor": 4
}
