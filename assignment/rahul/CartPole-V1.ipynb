{
 "cells": [
  {
   "cell_type": "markdown",
   "id": "8b4b90c9",
   "metadata": {},
   "source": [
    "<center><h1> Cart Pole Game</h1></center>\n",
    "<center><img src=\"images/cart_pole.gif\"></center>"
   ]
  },
  {
   "cell_type": "markdown",
   "id": "29cb6273",
   "metadata": {},
   "source": [
    "A pole is placed upright on the cart and the goal is to balance the pole by applying forces in the left and right direction on the cart."
   ]
  },
  {
   "cell_type": "markdown",
   "id": "bb6a8d2a",
   "metadata": {},
   "source": [
    "## OpenAI CartPole Gym Environment"
   ]
  },
  {
   "cell_type": "markdown",
   "id": "e0bc836a",
   "metadata": {},
   "source": [
    "### Action Space\n",
    "The action is a ndarray with shape (1,) which can take values {0, 1} indicating the direction of the fixed force the cart is pushed with."
   ]
  },
  {
   "cell_type": "markdown",
   "id": "9d4e5134",
   "metadata": {},
   "source": [
    "<center>\n",
    "<table>\n",
    "<thead>\n",
    "<tr><th><p>Num</p></th>\n",
    "<th><p>Action</p></th>\n",
    "</tr>\n",
    "</thead>\n",
    "<tbody>\n",
    "<tr><td><p>0</p></td>\n",
    "<td><p>Push cart to the left</p></td>\n",
    "</tr>\n",
    "<tr><td><p>1</p></td>\n",
    "<td><p>Push cart to the right</p></td>\n",
    "</tr>\n",
    "</tbody>\n",
    "</table>\n",
    "</center>"
   ]
  },
  {
   "cell_type": "markdown",
   "id": "e6e051ae",
   "metadata": {},
   "source": [
    "### Observation Space\n",
    "The observation is a ndarray with shape (4,) with the values corresponding to the following positions and velocities:"
   ]
  },
  {
   "cell_type": "markdown",
   "id": "734421b8",
   "metadata": {},
   "source": [
    "<center><table class=\"docutils align-default\">\n",
    "<thead>\n",
    "<tr class=\"row-odd\"><th class=\"head\"><p>Num</p></th>\n",
    "<th class=\"head\"><p>Observation</p></th>\n",
    "<th class=\"head\"><p>Min</p></th>\n",
    "<th class=\"head\"><p>Max</p></th>\n",
    "</tr>\n",
    "</thead>\n",
    "<tbody>\n",
    "<tr class=\"row-even\"><td><p>0</p></td>\n",
    "<td><p>Cart Position</p></td>\n",
    "<td><p>-4.8</p></td>\n",
    "<td><p>4.8</p></td>\n",
    "</tr>\n",
    "<tr class=\"row-odd\"><td><p>1</p></td>\n",
    "<td><p>Cart Velocity</p></td>\n",
    "<td><p>-Inf</p></td>\n",
    "<td><p>Inf</p></td>\n",
    "</tr>\n",
    "<tr class=\"row-even\"><td><p>2</p></td>\n",
    "<td><p>Pole Angle</p></td>\n",
    "<td><p>~ -0.418 rad (-24°)</p></td>\n",
    "<td><p>~ 0.418 rad (24°)</p></td>\n",
    "</tr>\n",
    "<tr class=\"row-odd\"><td><p>3</p></td>\n",
    "<td><p>Pole Angular Velocity</p></td>\n",
    "<td><p>-Inf</p></td>\n",
    "<td><p>Inf</p></td>\n",
    "</tr>\n",
    "</tbody>\n",
    "</table>\n",
    "</center>"
   ]
  },
  {
   "cell_type": "markdown",
   "id": "9374eb4e",
   "metadata": {},
   "source": [
    "### Rewards\n",
    "Since the goal is to keep the pole upright for as long as possible, a reward of +1 for every step taken, including the termination step, is allotted."
   ]
  },
  {
   "cell_type": "markdown",
   "id": "dec03157",
   "metadata": {},
   "source": [
    "### Starting State\n",
    "All observations are assigned a uniformly random value in (-0.05, 0.05)"
   ]
  },
  {
   "cell_type": "markdown",
   "id": "df752f6c",
   "metadata": {},
   "source": [
    "### Episode End\n",
    "\n",
    "The episode ends if any one of the following occurs:\n",
    "<ol class=\"arabic simple\">\n",
    "<li><p>Pole Angle is greater than ±12°</p></li>\n",
    "<li><p>Cart Position is greater than ±2.4 (center of the cart reaches the edge of the display)</p></li>\n",
    "</ol>"
   ]
  },
  {
   "cell_type": "code",
   "execution_count": null,
   "metadata": {},
   "outputs": [],
   "source": []
  },
  {
   "cell_type": "code",
   "execution_count": 16,
   "id": "40ae15be-d215-4e6d-a69e-54415f85596d",
   "metadata": {},
   "outputs": [],
   "source": [
    "import gym\n",
    "import random\n",
    "import time"
   ]
  },
  {
   "cell_type": "code",
   "execution_count": 17,
   "id": "5dfd1a92-6428-4ab9-a0d3-c8820bb77680",
   "metadata": {},
   "outputs": [
    {
     "data": {
      "text/plain": [
       "(array([ 0.04530601, -0.04711993, -0.00513815,  0.04254381], dtype=float32),\n",
       " {})"
      ]
     },
     "execution_count": 17,
     "metadata": {},
     "output_type": "execute_result"
    }
   ],
   "source": [
    "env = gym.make('CartPole-v1', render_mode='human')\n",
    "env.reset()"
   ]
  },
  {
   "cell_type": "code",
   "execution_count": 18,
   "id": "6ee551ad",
   "metadata": {},
   "outputs": [
    {
     "name": "stdout",
     "output_type": "stream",
     "text": [
      "Episode 1 lasted 29 steps\n",
      "Episode 2 lasted 26 steps\n",
      "Episode 3 lasted 20 steps\n",
      "Episode 4 lasted 12 steps\n",
      "Episode 5 lasted 14 steps\n",
      "Episode 6 lasted 11 steps\n",
      "Episode 7 lasted 56 steps\n",
      "Episode 8 lasted 16 steps\n",
      "Episode 9 lasted 21 steps\n",
      "Episode 10 lasted 19 steps\n",
      "Episode 11 lasted 48 steps\n",
      "Episode 12 lasted 10 steps\n",
      "Episode 13 lasted 25 steps\n",
      "Episode 14 lasted 13 steps\n",
      "Episode 15 lasted 23 steps\n",
      "Episode 16 lasted 36 steps\n",
      "Episode 17 lasted 15 steps\n",
      "Episode 18 lasted 15 steps\n",
      "Episode 19 lasted 24 steps\n",
      "Episode 20 lasted 22 steps\n",
      "Episode 21 lasted 15 steps\n",
      "Episode 22 lasted 35 steps\n",
      "Episode 23 lasted 16 steps\n",
      "Episode 24 lasted 37 steps\n",
      "Episode 25 lasted 20 steps\n"
     ]
    }
   ],
   "source": [
    "episodes = 0\n",
    "step = 0\n",
    "while episodes < 25:\n",
    "    last_time = time.time()\n",
    "    \n",
    "    action = random.choice([0, 1])\n",
    "    state, reward, done, _, _ = env.step(action)\n",
    "    step+=1\n",
    "    \n",
    "    if done:\n",
    "        time.sleep(0.5)\n",
    "        episodes += 1\n",
    "        print(f'Episode {episodes} lasted {step} steps')\n",
    "        step = 0\n",
    "        env.reset()\n",
    "        \n",
    "    time.sleep(max(1/24 - (time.time() - last_time), 0))"
   ]
  },
  {
   "cell_type": "markdown",
   "id": "bc56a04b",
   "metadata": {},
   "source": [
    "### Average reward with Random Action"
   ]
  },
  {
   "cell_type": "code",
   "execution_count": 19,
   "id": "ce5d3876",
   "metadata": {},
   "outputs": [
    {
     "name": "stdout",
     "output_type": "stream",
     "text": [
      "average reward per episode : 20.32\n"
     ]
    }
   ],
   "source": [
    "env = gym.make('CartPole-v1')\n",
    " \n",
    "rew_array = []\n",
    "for i in range(100):\n",
    "    rew = 0\n",
    "    state, done, rew = env.reset(), False, 0\n",
    "    \n",
    "    while not done:\n",
    "        action = random.choice([0, 1])\n",
    "        state, reward, done, _, _ = env.step(action)\n",
    "        rew += reward\n",
    "    \n",
    "    rew_array.append(rew)\n",
    "    \n",
    "print(\"average reward per episode :\", sum(rew_array)/ len(rew_array))"
   ]
  },
  {
   "cell_type": "code",
   "execution_count": 20,
   "id": "20ff6110",
   "metadata": {},
   "outputs": [],
   "source": [
    "env.close()"
   ]
  },
  {
   "cell_type": "code",
   "execution_count": null,
   "metadata": {},
   "outputs": [],
   "source": []
  },
  {
   "cell_type": "markdown",
   "metadata": {},
   "source": [
    "## Deep Q Network and DQN Agent"
   ]
  },
  {
   "cell_type": "code",
   "execution_count": 21,
   "id": "a3556811",
   "metadata": {},
   "outputs": [],
   "source": [
    "import torch\n",
    "import torch.nn as nn\n",
    "import torch.optim as optim\n",
    "from collections import deque"
   ]
  },
  {
   "cell_type": "code",
   "execution_count": 22,
   "metadata": {},
   "outputs": [],
   "source": [
    "torch.manual_seed(42)\n",
    "random.seed(42)"
   ]
  },
  {
   "cell_type": "markdown",
   "metadata": {},
   "source": [
    "### Building the Policy Network"
   ]
  },
  {
   "cell_type": "markdown",
   "metadata": {},
   "source": [
    "<center><img src=\"images\\q_net.webp\"></center>"
   ]
  },
  {
   "cell_type": "code",
   "execution_count": 8,
   "metadata": {},
   "outputs": [],
   "source": [
    "class PolicyModel(nn.Module):\n",
    "    def __init__(self, state_size, action_size, learning_rate):\n",
    "        super(PolicyModel, self).__init__()\n",
    "\n",
    "        self.fc1 = nn.Linear(state_size, 24)\n",
    "        self.fc2 = nn.Linear(24, 24)\n",
    "        self.fc3 = nn.Linear(24, action_size)\n",
    "\n",
    "        self.relu = nn.ReLU()\n",
    "\n",
    "        self.optimizer = optim.Adam(self.parameters(), lr=learning_rate)\n",
    "        self.criterion = nn.MSELoss()\n",
    "\n",
    "    def forward(self, x):\n",
    "        x = self.relu(self.fc1(x))\n",
    "        x = self.relu(self.fc2(x))\n",
    "        x = self.fc3(x)\n",
    "        return x\n",
    "\n",
    "    def fit(self, state, target_f):\n",
    "        self.train()\n",
    "\n",
    "        state_tensor = torch.tensor(state, dtype=torch.float32)\n",
    "        target_f_tensor = torch.tensor(target_f, dtype=torch.float32)\n",
    "\n",
    "        self.optimizer.zero_grad()\n",
    "\n",
    "        output = self(state_tensor)\n",
    "\n",
    "        loss = self.criterion(output, target_f_tensor)\n",
    "        loss.backward()\n",
    "        self.optimizer.step()"
   ]
  },
  {
   "cell_type": "markdown",
   "metadata": {},
   "source": [
    "### Building the DQN Agent"
   ]
  },
  {
   "cell_type": "code",
   "execution_count": 9,
   "metadata": {},
   "outputs": [],
   "source": [
    "class DQNAgent:\n",
    "    def __init__(self, state_size, action_size):\n",
    "        self.state_size = state_size\n",
    "        self.action_size = action_size\n",
    "\n",
    "        self.memory = deque(maxlen=10000)\n",
    "        self.gamma = 0.95\n",
    "        \n",
    "        self.epsilon = 1.0\n",
    "        self.epsilon_decay = 0.995\n",
    "        self.epsilon_min = 0.05\n",
    "        \n",
    "        self.learning_rate = 0.001\n",
    "        self.model = PolicyModel(self.state_size, self.action_size, self.learning_rate)\n",
    "\n",
    "    def remember(self, state, action, reward, next_state, done):\n",
    "        self.memory.append([state, action, reward, next_state, done])\n",
    "\n",
    "    def act(self, state, train=True):\n",
    "        if random.random() <= self.epsilon and train:\n",
    "            return random.randrange(self.action_size)\n",
    "        else:\n",
    "            self.model.eval()\n",
    "            state_tensor = torch.tensor(state, dtype=torch.float32)\n",
    "            act_values = self.model(state_tensor)\n",
    "            return torch.argmax(act_values).item()\n",
    "\n",
    "    def replay(self, batch_size):\n",
    "        self.model.eval()\n",
    "        minibatch = random.sample(self.memory, batch_size)\n",
    "\n",
    "        for state, action, reward, next_state, done in minibatch:\n",
    "            target = reward\n",
    "            \n",
    "            if not done:\n",
    "                next_state_tensor = torch.tensor(next_state, dtype=torch.float32)\n",
    "                target = reward + self.gamma * torch.max(self.model(next_state_tensor)).item()\n",
    "\n",
    "            state_tensor = torch.tensor(state, dtype=torch.float32)\n",
    "            target_f = self.model(state_tensor).clone()\n",
    "            target_f[0][action] = target\n",
    "\n",
    "            self.model.fit(state, target_f)\n",
    "\n",
    "        if self.epsilon > self.epsilon_min:\n",
    "            self.epsilon *= self.epsilon_decay\n",
    "            \n",
    "    def save(self, name):\n",
    "        torch.save(self.model.state_dict(), name)\n",
    "        \n",
    "    def load(self, name):\n",
    "        self.model.load_state_dict(torch.load(name))"
   ]
  },
  {
   "cell_type": "code",
   "execution_count": null,
   "metadata": {},
   "outputs": [],
   "source": []
  },
  {
   "cell_type": "markdown",
   "metadata": {},
   "source": [
    "## Learning to Play the CartPole game"
   ]
  },
  {
   "cell_type": "code",
   "execution_count": 23,
   "metadata": {},
   "outputs": [],
   "source": [
    "import numpy as np\n",
    "import plotly.express as px\n",
    "import ipywidgets as widgets\n",
    "from IPython.display import display"
   ]
  },
  {
   "cell_type": "code",
   "execution_count": 24,
   "metadata": {},
   "outputs": [],
   "source": [
    "env = gym.make('CartPole-v1')"
   ]
  },
  {
   "cell_type": "code",
   "execution_count": 25,
   "metadata": {},
   "outputs": [
    {
     "data": {
      "text/plain": [
       "(4, 2)"
      ]
     },
     "execution_count": 25,
     "metadata": {},
     "output_type": "execute_result"
    }
   ],
   "source": [
    "state_size = env.observation_space.shape[0]\n",
    "action_size = env.action_space.n\n",
    "state_size, action_size"
   ]
  },
  {
   "cell_type": "code",
   "execution_count": 26,
   "metadata": {},
   "outputs": [],
   "source": [
    "batch_size = 128\n",
    "agent = DQNAgent(state_size, action_size)"
   ]
  },
  {
   "cell_type": "code",
   "execution_count": 14,
   "metadata": {},
   "outputs": [
    {
     "name": "stderr",
     "output_type": "stream",
     "text": [
      "c:\\Users\\rahul\\Anaconda3\\lib\\site-packages\\gym\\utils\\passive_env_checker.py:233: DeprecationWarning: `np.bool8` is a deprecated alias for `np.bool_`.  (Deprecated NumPy 1.24)\n",
      "  if not isinstance(terminated, (bool, np.bool8)):\n",
      "C:\\Users\\rahul\\AppData\\Local\\Temp\\ipykernel_20168\\839541913.py:24: UserWarning: To copy construct from a tensor, it is recommended to use sourceTensor.clone().detach() or sourceTensor.clone().detach().requires_grad_(True), rather than torch.tensor(sourceTensor).\n",
      "  target_f_tensor = torch.tensor(target_f, dtype=torch.float32)\n"
     ]
    },
    {
     "name": "stdout",
     "output_type": "stream",
     "text": [
      "episode: 1,\t score: 10,\t epsilon: 1.0\n",
      "episode: 2,\t score: 12,\t epsilon: 1.0\n",
      "episode: 3,\t score: 32,\t epsilon: 1.0\n",
      "episode: 4,\t score: 18,\t epsilon: 1.0\n",
      "episode: 5,\t score: 19,\t epsilon: 1.0\n",
      "episode: 6,\t score: 12,\t epsilon: 1.0\n",
      "episode: 7,\t score: 14,\t epsilon: 1.0\n",
      "episode: 8,\t score: 34,\t epsilon: 1.0\n",
      "episode: 9,\t score: 73,\t epsilon: 0.99\n",
      "episode: 10,\t score: 21,\t epsilon: 0.99\n",
      "episode: 11,\t score: 13,\t epsilon: 0.99\n",
      "episode: 12,\t score: 25,\t epsilon: 0.98\n",
      "episode: 13,\t score: 39,\t epsilon: 0.98\n",
      "episode: 14,\t score: 10,\t epsilon: 0.97\n",
      "episode: 15,\t score: 33,\t epsilon: 0.97\n",
      "episode: 16,\t score: 32,\t epsilon: 0.96\n",
      "episode: 17,\t score: 12,\t epsilon: 0.96\n",
      "episode: 18,\t score: 10,\t epsilon: 0.95\n",
      "episode: 19,\t score: 23,\t epsilon: 0.95\n",
      "episode: 20,\t score: 9,\t epsilon: 0.94\n",
      "episode: 21,\t score: 17,\t epsilon: 0.94\n",
      "episode: 22,\t score: 11,\t epsilon: 0.93\n",
      "episode: 23,\t score: 24,\t epsilon: 0.93\n",
      "episode: 24,\t score: 31,\t epsilon: 0.92\n",
      "episode: 25,\t score: 11,\t epsilon: 0.92\n",
      "episode: 26,\t score: 21,\t epsilon: 0.91\n",
      "episode: 27,\t score: 17,\t epsilon: 0.91\n",
      "episode: 28,\t score: 27,\t epsilon: 0.9\n",
      "episode: 29,\t score: 22,\t epsilon: 0.9\n",
      "episode: 30,\t score: 17,\t epsilon: 0.9\n",
      "episode: 31,\t score: 16,\t epsilon: 0.89\n",
      "episode: 32,\t score: 31,\t epsilon: 0.89\n",
      "episode: 33,\t score: 15,\t epsilon: 0.88\n",
      "episode: 34,\t score: 12,\t epsilon: 0.88\n",
      "episode: 35,\t score: 15,\t epsilon: 0.87\n",
      "episode: 36,\t score: 33,\t epsilon: 0.87\n",
      "episode: 37,\t score: 21,\t epsilon: 0.86\n",
      "episode: 38,\t score: 46,\t epsilon: 0.86\n",
      "episode: 39,\t score: 24,\t epsilon: 0.86\n",
      "episode: 40,\t score: 51,\t epsilon: 0.85\n",
      "episode: 41,\t score: 16,\t epsilon: 0.85\n",
      "episode: 42,\t score: 9,\t epsilon: 0.84\n",
      "episode: 43,\t score: 8,\t epsilon: 0.84\n",
      "episode: 44,\t score: 27,\t epsilon: 0.83\n",
      "episode: 45,\t score: 18,\t epsilon: 0.83\n",
      "episode: 46,\t score: 10,\t epsilon: 0.83\n",
      "episode: 47,\t score: 16,\t epsilon: 0.82\n",
      "episode: 48,\t score: 23,\t epsilon: 0.82\n",
      "episode: 49,\t score: 15,\t epsilon: 0.81\n",
      "episode: 50,\t score: 37,\t epsilon: 0.81\n",
      "episode: 51,\t score: 18,\t epsilon: 0.81\n",
      "episode: 52,\t score: 51,\t epsilon: 0.8\n",
      "episode: 53,\t score: 51,\t epsilon: 0.8\n",
      "episode: 54,\t score: 12,\t epsilon: 0.79\n",
      "episode: 55,\t score: 14,\t epsilon: 0.79\n",
      "episode: 56,\t score: 58,\t epsilon: 0.79\n",
      "episode: 57,\t score: 24,\t epsilon: 0.78\n",
      "episode: 58,\t score: 19,\t epsilon: 0.78\n",
      "episode: 59,\t score: 27,\t epsilon: 0.77\n",
      "episode: 60,\t score: 31,\t epsilon: 0.77\n",
      "episode: 61,\t score: 67,\t epsilon: 0.77\n",
      "episode: 62,\t score: 62,\t epsilon: 0.76\n",
      "episode: 63,\t score: 29,\t epsilon: 0.76\n",
      "episode: 64,\t score: 32,\t epsilon: 0.76\n",
      "episode: 65,\t score: 38,\t epsilon: 0.75\n",
      "episode: 66,\t score: 24,\t epsilon: 0.75\n",
      "episode: 67,\t score: 26,\t epsilon: 0.74\n",
      "episode: 68,\t score: 28,\t epsilon: 0.74\n",
      "episode: 69,\t score: 36,\t epsilon: 0.74\n",
      "episode: 70,\t score: 14,\t epsilon: 0.73\n",
      "episode: 71,\t score: 38,\t epsilon: 0.73\n",
      "episode: 72,\t score: 47,\t epsilon: 0.73\n",
      "episode: 73,\t score: 23,\t epsilon: 0.72\n",
      "episode: 74,\t score: 23,\t epsilon: 0.72\n",
      "episode: 75,\t score: 19,\t epsilon: 0.71\n",
      "episode: 76,\t score: 74,\t epsilon: 0.71\n",
      "episode: 77,\t score: 12,\t epsilon: 0.71\n",
      "episode: 78,\t score: 11,\t epsilon: 0.7\n",
      "episode: 79,\t score: 155,\t epsilon: 0.7\n",
      "episode: 80,\t score: 46,\t epsilon: 0.7\n",
      "episode: 81,\t score: 48,\t epsilon: 0.69\n",
      "episode: 82,\t score: 47,\t epsilon: 0.69\n",
      "episode: 83,\t score: 20,\t epsilon: 0.69\n",
      "episode: 84,\t score: 151,\t epsilon: 0.68\n",
      "episode: 85,\t score: 89,\t epsilon: 0.68\n",
      "episode: 86,\t score: 55,\t epsilon: 0.68\n",
      "episode: 87,\t score: 14,\t epsilon: 0.67\n",
      "episode: 88,\t score: 78,\t epsilon: 0.67\n",
      "episode: 89,\t score: 11,\t epsilon: 0.67\n",
      "episode: 90,\t score: 39,\t epsilon: 0.66\n",
      "episode: 91,\t score: 77,\t epsilon: 0.66\n",
      "episode: 92,\t score: 69,\t epsilon: 0.66\n",
      "episode: 93,\t score: 24,\t epsilon: 0.65\n",
      "episode: 94,\t score: 15,\t epsilon: 0.65\n",
      "episode: 95,\t score: 33,\t epsilon: 0.65\n",
      "episode: 96,\t score: 162,\t epsilon: 0.64\n",
      "episode: 97,\t score: 54,\t epsilon: 0.64\n",
      "episode: 98,\t score: 118,\t epsilon: 0.64\n",
      "episode: 99,\t score: 178,\t epsilon: 0.63\n",
      "episode: 100,\t score: 206,\t epsilon: 0.63\n",
      "episode: 101,\t score: 43,\t epsilon: 0.63\n",
      "episode: 102,\t score: 125,\t epsilon: 0.62\n",
      "episode: 103,\t score: 16,\t epsilon: 0.62\n",
      "episode: 104,\t score: 113,\t epsilon: 0.62\n",
      "episode: 105,\t score: 20,\t epsilon: 0.61\n",
      "episode: 106,\t score: 24,\t epsilon: 0.61\n",
      "episode: 107,\t score: 57,\t epsilon: 0.61\n",
      "episode: 108,\t score: 34,\t epsilon: 0.61\n",
      "episode: 109,\t score: 54,\t epsilon: 0.6\n",
      "episode: 110,\t score: 176,\t epsilon: 0.6\n",
      "episode: 111,\t score: 15,\t epsilon: 0.6\n",
      "episode: 112,\t score: 78,\t epsilon: 0.59\n",
      "episode: 113,\t score: 55,\t epsilon: 0.59\n",
      "episode: 114,\t score: 52,\t epsilon: 0.59\n",
      "episode: 115,\t score: 150,\t epsilon: 0.58\n",
      "episode: 116,\t score: 24,\t epsilon: 0.58\n",
      "episode: 117,\t score: 99,\t epsilon: 0.58\n",
      "episode: 118,\t score: 60,\t epsilon: 0.58\n",
      "episode: 119,\t score: 62,\t epsilon: 0.57\n",
      "episode: 120,\t score: 15,\t epsilon: 0.57\n",
      "episode: 121,\t score: 171,\t epsilon: 0.57\n",
      "episode: 122,\t score: 107,\t epsilon: 0.56\n",
      "episode: 123,\t score: 192,\t epsilon: 0.56\n",
      "episode: 124,\t score: 215,\t epsilon: 0.56\n",
      "episode: 125,\t score: 109,\t epsilon: 0.56\n",
      "episode: 126,\t score: 118,\t epsilon: 0.55\n",
      "episode: 127,\t score: 17,\t epsilon: 0.55\n",
      "episode: 128,\t score: 151,\t epsilon: 0.55\n",
      "episode: 129,\t score: 133,\t epsilon: 0.55\n",
      "episode: 130,\t score: 202,\t epsilon: 0.54\n",
      "episode: 131,\t score: 24,\t epsilon: 0.54\n",
      "episode: 132,\t score: 78,\t epsilon: 0.54\n",
      "episode: 133,\t score: 164,\t epsilon: 0.53\n",
      "episode: 134,\t score: 88,\t epsilon: 0.53\n",
      "episode: 135,\t score: 39,\t epsilon: 0.53\n",
      "episode: 136,\t score: 176,\t epsilon: 0.53\n",
      "episode: 137,\t score: 175,\t epsilon: 0.52\n",
      "episode: 138,\t score: 141,\t epsilon: 0.52\n",
      "episode: 139,\t score: 62,\t epsilon: 0.52\n",
      "episode: 140,\t score: 43,\t epsilon: 0.52\n",
      "episode: 141,\t score: 312,\t epsilon: 0.51\n",
      "episode: 142,\t score: 271,\t epsilon: 0.51\n",
      "episode: 143,\t score: 43,\t epsilon: 0.51\n",
      "episode: 144,\t score: 43,\t epsilon: 0.51\n",
      "episode: 145,\t score: 25,\t epsilon: 0.5\n",
      "episode: 146,\t score: 45,\t epsilon: 0.5\n",
      "episode: 147,\t score: 181,\t epsilon: 0.5\n",
      "episode: 148,\t score: 139,\t epsilon: 0.5\n",
      "episode: 149,\t score: 126,\t epsilon: 0.49\n",
      "episode: 150,\t score: 209,\t epsilon: 0.49\n",
      "episode: 151,\t score: 142,\t epsilon: 0.49\n",
      "episode: 152,\t score: 145,\t epsilon: 0.49\n",
      "episode: 153,\t score: 168,\t epsilon: 0.48\n",
      "episode: 154,\t score: 61,\t epsilon: 0.48\n",
      "episode: 155,\t score: 144,\t epsilon: 0.48\n",
      "episode: 156,\t score: 354,\t epsilon: 0.48\n",
      "episode: 157,\t score: 32,\t epsilon: 0.47\n",
      "episode: 158,\t score: 217,\t epsilon: 0.47\n",
      "episode: 159,\t score: 168,\t epsilon: 0.47\n",
      "episode: 160,\t score: 42,\t epsilon: 0.47\n",
      "episode: 161,\t score: 158,\t epsilon: 0.46\n",
      "episode: 162,\t score: 30,\t epsilon: 0.46\n",
      "episode: 163,\t score: 147,\t epsilon: 0.46\n",
      "episode: 164,\t score: 121,\t epsilon: 0.46\n",
      "episode: 165,\t score: 208,\t epsilon: 0.46\n",
      "episode: 166,\t score: 136,\t epsilon: 0.45\n",
      "episode: 167,\t score: 186,\t epsilon: 0.45\n",
      "episode: 168,\t score: 29,\t epsilon: 0.45\n",
      "episode: 169,\t score: 58,\t epsilon: 0.45\n",
      "episode: 170,\t score: 32,\t epsilon: 0.44\n",
      "episode: 171,\t score: 48,\t epsilon: 0.44\n",
      "episode: 172,\t score: 110,\t epsilon: 0.44\n",
      "episode: 173,\t score: 66,\t epsilon: 0.44\n",
      "episode: 174,\t score: 268,\t epsilon: 0.44\n",
      "episode: 175,\t score: 193,\t epsilon: 0.43\n",
      "episode: 176,\t score: 138,\t epsilon: 0.43\n",
      "episode: 177,\t score: 85,\t epsilon: 0.43\n",
      "episode: 178,\t score: 309,\t epsilon: 0.43\n",
      "episode: 179,\t score: 233,\t epsilon: 0.42\n",
      "episode: 180,\t score: 225,\t epsilon: 0.42\n",
      "episode: 181,\t score: 32,\t epsilon: 0.42\n",
      "episode: 182,\t score: 264,\t epsilon: 0.42\n",
      "episode: 183,\t score: 17,\t epsilon: 0.42\n",
      "episode: 184,\t score: 276,\t epsilon: 0.41\n",
      "episode: 185,\t score: 239,\t epsilon: 0.41\n",
      "episode: 186,\t score: 103,\t epsilon: 0.41\n",
      "episode: 187,\t score: 240,\t epsilon: 0.41\n",
      "episode: 188,\t score: 296,\t epsilon: 0.41\n",
      "episode: 189,\t score: 18,\t epsilon: 0.4\n",
      "episode: 190,\t score: 57,\t epsilon: 0.4\n",
      "episode: 191,\t score: 70,\t epsilon: 0.4\n",
      "episode: 192,\t score: 181,\t epsilon: 0.4\n",
      "episode: 193,\t score: 221,\t epsilon: 0.4\n",
      "episode: 194,\t score: 301,\t epsilon: 0.39\n",
      "episode: 195,\t score: 269,\t epsilon: 0.39\n",
      "episode: 196,\t score: 55,\t epsilon: 0.39\n",
      "episode: 197,\t score: 176,\t epsilon: 0.39\n",
      "episode: 198,\t score: 133,\t epsilon: 0.39\n",
      "episode: 199,\t score: 354,\t epsilon: 0.38\n",
      "episode: 200,\t score: 278,\t epsilon: 0.38\n",
      "episode: 201,\t score: 139,\t epsilon: 0.38\n",
      "episode: 202,\t score: 153,\t epsilon: 0.38\n",
      "episode: 203,\t score: 133,\t epsilon: 0.38\n",
      "episode: 204,\t score: 282,\t epsilon: 0.37\n",
      "episode: 205,\t score: 190,\t epsilon: 0.37\n",
      "episode: 206,\t score: 69,\t epsilon: 0.37\n",
      "episode: 207,\t score: 259,\t epsilon: 0.37\n",
      "episode: 208,\t score: 190,\t epsilon: 0.37\n",
      "episode: 209,\t score: 263,\t epsilon: 0.37\n",
      "episode: 210,\t score: 384,\t epsilon: 0.36\n",
      "episode: 211,\t score: 215,\t epsilon: 0.36\n",
      "episode: 212,\t score: 290,\t epsilon: 0.36\n",
      "episode: 213,\t score: 225,\t epsilon: 0.36\n",
      "episode: 214,\t score: 147,\t epsilon: 0.36\n",
      "episode: 215,\t score: 113,\t epsilon: 0.35\n",
      "episode: 216,\t score: 165,\t epsilon: 0.35\n",
      "episode: 217,\t score: 218,\t epsilon: 0.35\n",
      "episode: 218,\t score: 127,\t epsilon: 0.35\n",
      "episode: 219,\t score: 311,\t epsilon: 0.35\n",
      "episode: 220,\t score: 207,\t epsilon: 0.35\n",
      "episode: 221,\t score: 281,\t epsilon: 0.34\n",
      "episode: 222,\t score: 208,\t epsilon: 0.34\n",
      "episode: 223,\t score: 193,\t epsilon: 0.34\n",
      "episode: 224,\t score: 226,\t epsilon: 0.34\n",
      "episode: 225,\t score: 330,\t epsilon: 0.34\n",
      "episode: 226,\t score: 201,\t epsilon: 0.34\n",
      "episode: 227,\t score: 344,\t epsilon: 0.33\n",
      "episode: 228,\t score: 25,\t epsilon: 0.33\n",
      "episode: 229,\t score: 112,\t epsilon: 0.33\n",
      "episode: 230,\t score: 202,\t epsilon: 0.33\n",
      "episode: 231,\t score: 281,\t epsilon: 0.33\n",
      "episode: 232,\t score: 193,\t epsilon: 0.33\n",
      "episode: 233,\t score: 60,\t epsilon: 0.32\n",
      "episode: 234,\t score: 236,\t epsilon: 0.32\n",
      "episode: 235,\t score: 302,\t epsilon: 0.32\n",
      "episode: 236,\t score: 248,\t epsilon: 0.32\n",
      "episode: 237,\t score: 251,\t epsilon: 0.32\n",
      "episode: 238,\t score: 146,\t epsilon: 0.32\n",
      "episode: 239,\t score: 374,\t epsilon: 0.31\n",
      "episode: 240,\t score: 282,\t epsilon: 0.31\n",
      "episode: 241,\t score: 349,\t epsilon: 0.31\n",
      "episode: 242,\t score: 221,\t epsilon: 0.31\n",
      "episode: 243,\t score: 304,\t epsilon: 0.31\n"
     ]
    }
   ],
   "source": [
    "done = False\n",
    "scores = []\n",
    "episode = 0\n",
    "\n",
    "while sum(scores[-10:])/10 < 250:\n",
    "    episode += 1\n",
    "    \n",
    "    state, _ = env.reset()\n",
    "    state = np.reshape(state, [1, state_size])\n",
    "    \n",
    "    for step in range(1000):\n",
    "        \n",
    "        action = agent.act(state)\n",
    "        next_state, reward, done, _, _ = env.step(action)\n",
    "        \n",
    "        next_state = np.reshape(next_state, [1, state_size])\n",
    "        \n",
    "        if done:\n",
    "            agent.remember(state, action, -10, next_state, done)\n",
    "            print(\"episode: {},\\t score: {},\\t epsilon: {:.2}\".format(episode, step, agent.epsilon))\n",
    "            break\n",
    "        else:\n",
    "            agent.remember(state, action, reward, next_state, done)\n",
    "        \n",
    "        state = next_state\n",
    "            \n",
    "    scores.append(step)\n",
    "    \n",
    "    if len(agent.memory) > batch_size:\n",
    "        agent.replay(batch_size)\n",
    "        \n",
    "    if episode % 100 == 0:\n",
    "        agent.save(f\"./models/{episode}.h5\")\n",
    "        \n",
    "# agent.save(\"./models/best.h5\")"
   ]
  },
  {
   "cell_type": "markdown",
   "metadata": {},
   "source": [
    "### Visualize the training of the agent"
   ]
  },
  {
   "cell_type": "code",
   "execution_count": 15,
   "metadata": {},
   "outputs": [
    {
     "data": {
      "application/vnd.plotly.v1+json": {
       "config": {
        "plotlyServerURL": "https://plot.ly"
       },
       "data": [
        {
         "hovertemplate": "Episode=%{x}<br>Score=%{y}<extra></extra>",
         "legendgroup": "",
         "line": {
          "color": "#636efa",
          "dash": "solid"
         },
         "marker": {
          "symbol": "circle"
         },
         "mode": "lines",
         "name": "",
         "orientation": "v",
         "showlegend": false,
         "type": "scatter",
         "x": [
          0,
          1,
          2,
          3,
          4,
          5,
          6,
          7,
          8,
          9,
          10,
          11,
          12,
          13,
          14,
          15,
          16,
          17,
          18,
          19,
          20,
          21,
          22,
          23,
          24,
          25,
          26,
          27,
          28,
          29,
          30,
          31,
          32,
          33,
          34,
          35,
          36,
          37,
          38,
          39,
          40,
          41,
          42,
          43,
          44,
          45,
          46,
          47,
          48,
          49,
          50,
          51,
          52,
          53,
          54,
          55,
          56,
          57,
          58,
          59,
          60,
          61,
          62,
          63,
          64,
          65,
          66,
          67,
          68,
          69,
          70,
          71,
          72,
          73,
          74,
          75,
          76,
          77,
          78,
          79,
          80,
          81,
          82,
          83,
          84,
          85,
          86,
          87,
          88,
          89,
          90,
          91,
          92,
          93,
          94,
          95,
          96,
          97,
          98,
          99,
          100,
          101,
          102,
          103,
          104,
          105,
          106,
          107,
          108,
          109,
          110,
          111,
          112,
          113,
          114,
          115,
          116,
          117,
          118,
          119,
          120,
          121,
          122,
          123,
          124,
          125,
          126,
          127,
          128,
          129,
          130,
          131,
          132,
          133,
          134,
          135,
          136,
          137,
          138,
          139,
          140,
          141,
          142,
          143,
          144,
          145,
          146,
          147,
          148,
          149,
          150,
          151,
          152,
          153,
          154,
          155,
          156,
          157,
          158,
          159,
          160,
          161,
          162,
          163,
          164,
          165,
          166,
          167,
          168,
          169,
          170,
          171,
          172,
          173,
          174,
          175,
          176,
          177,
          178,
          179,
          180,
          181,
          182,
          183,
          184,
          185,
          186,
          187,
          188,
          189,
          190,
          191,
          192,
          193,
          194,
          195,
          196,
          197,
          198,
          199,
          200,
          201,
          202,
          203,
          204,
          205,
          206,
          207,
          208,
          209,
          210,
          211,
          212,
          213,
          214,
          215,
          216,
          217,
          218,
          219,
          220,
          221,
          222,
          223,
          224,
          225,
          226,
          227,
          228,
          229,
          230,
          231,
          232,
          233,
          234,
          235,
          236,
          237,
          238,
          239,
          240,
          241,
          242
         ],
         "xaxis": "x",
         "y": [
          10,
          12,
          32,
          18,
          19,
          12,
          14,
          34,
          73,
          21,
          13,
          25,
          39,
          10,
          33,
          32,
          12,
          10,
          23,
          9,
          17,
          11,
          24,
          31,
          11,
          21,
          17,
          27,
          22,
          17,
          16,
          31,
          15,
          12,
          15,
          33,
          21,
          46,
          24,
          51,
          16,
          9,
          8,
          27,
          18,
          10,
          16,
          23,
          15,
          37,
          18,
          51,
          51,
          12,
          14,
          58,
          24,
          19,
          27,
          31,
          67,
          62,
          29,
          32,
          38,
          24,
          26,
          28,
          36,
          14,
          38,
          47,
          23,
          23,
          19,
          74,
          12,
          11,
          155,
          46,
          48,
          47,
          20,
          151,
          89,
          55,
          14,
          78,
          11,
          39,
          77,
          69,
          24,
          15,
          33,
          162,
          54,
          118,
          178,
          206,
          43,
          125,
          16,
          113,
          20,
          24,
          57,
          34,
          54,
          176,
          15,
          78,
          55,
          52,
          150,
          24,
          99,
          60,
          62,
          15,
          171,
          107,
          192,
          215,
          109,
          118,
          17,
          151,
          133,
          202,
          24,
          78,
          164,
          88,
          39,
          176,
          175,
          141,
          62,
          43,
          312,
          271,
          43,
          43,
          25,
          45,
          181,
          139,
          126,
          209,
          142,
          145,
          168,
          61,
          144,
          354,
          32,
          217,
          168,
          42,
          158,
          30,
          147,
          121,
          208,
          136,
          186,
          29,
          58,
          32,
          48,
          110,
          66,
          268,
          193,
          138,
          85,
          309,
          233,
          225,
          32,
          264,
          17,
          276,
          239,
          103,
          240,
          296,
          18,
          57,
          70,
          181,
          221,
          301,
          269,
          55,
          176,
          133,
          354,
          278,
          139,
          153,
          133,
          282,
          190,
          69,
          259,
          190,
          263,
          384,
          215,
          290,
          225,
          147,
          113,
          165,
          218,
          127,
          311,
          207,
          281,
          208,
          193,
          226,
          330,
          201,
          344,
          25,
          112,
          202,
          281,
          193,
          60,
          236,
          302,
          248,
          251,
          146,
          374,
          282,
          349,
          221,
          304
         ],
         "yaxis": "y"
        }
       ],
       "layout": {
        "legend": {
         "tracegroupgap": 0
        },
        "margin": {
         "t": 60
        },
        "template": {
         "data": {
          "bar": [
           {
            "error_x": {
             "color": "#2a3f5f"
            },
            "error_y": {
             "color": "#2a3f5f"
            },
            "marker": {
             "line": {
              "color": "#E5ECF6",
              "width": 0.5
             },
             "pattern": {
              "fillmode": "overlay",
              "size": 10,
              "solidity": 0.2
             }
            },
            "type": "bar"
           }
          ],
          "barpolar": [
           {
            "marker": {
             "line": {
              "color": "#E5ECF6",
              "width": 0.5
             },
             "pattern": {
              "fillmode": "overlay",
              "size": 10,
              "solidity": 0.2
             }
            },
            "type": "barpolar"
           }
          ],
          "carpet": [
           {
            "aaxis": {
             "endlinecolor": "#2a3f5f",
             "gridcolor": "white",
             "linecolor": "white",
             "minorgridcolor": "white",
             "startlinecolor": "#2a3f5f"
            },
            "baxis": {
             "endlinecolor": "#2a3f5f",
             "gridcolor": "white",
             "linecolor": "white",
             "minorgridcolor": "white",
             "startlinecolor": "#2a3f5f"
            },
            "type": "carpet"
           }
          ],
          "choropleth": [
           {
            "colorbar": {
             "outlinewidth": 0,
             "ticks": ""
            },
            "type": "choropleth"
           }
          ],
          "contour": [
           {
            "colorbar": {
             "outlinewidth": 0,
             "ticks": ""
            },
            "colorscale": [
             [
              0,
              "#0d0887"
             ],
             [
              0.1111111111111111,
              "#46039f"
             ],
             [
              0.2222222222222222,
              "#7201a8"
             ],
             [
              0.3333333333333333,
              "#9c179e"
             ],
             [
              0.4444444444444444,
              "#bd3786"
             ],
             [
              0.5555555555555556,
              "#d8576b"
             ],
             [
              0.6666666666666666,
              "#ed7953"
             ],
             [
              0.7777777777777778,
              "#fb9f3a"
             ],
             [
              0.8888888888888888,
              "#fdca26"
             ],
             [
              1,
              "#f0f921"
             ]
            ],
            "type": "contour"
           }
          ],
          "contourcarpet": [
           {
            "colorbar": {
             "outlinewidth": 0,
             "ticks": ""
            },
            "type": "contourcarpet"
           }
          ],
          "heatmap": [
           {
            "colorbar": {
             "outlinewidth": 0,
             "ticks": ""
            },
            "colorscale": [
             [
              0,
              "#0d0887"
             ],
             [
              0.1111111111111111,
              "#46039f"
             ],
             [
              0.2222222222222222,
              "#7201a8"
             ],
             [
              0.3333333333333333,
              "#9c179e"
             ],
             [
              0.4444444444444444,
              "#bd3786"
             ],
             [
              0.5555555555555556,
              "#d8576b"
             ],
             [
              0.6666666666666666,
              "#ed7953"
             ],
             [
              0.7777777777777778,
              "#fb9f3a"
             ],
             [
              0.8888888888888888,
              "#fdca26"
             ],
             [
              1,
              "#f0f921"
             ]
            ],
            "type": "heatmap"
           }
          ],
          "heatmapgl": [
           {
            "colorbar": {
             "outlinewidth": 0,
             "ticks": ""
            },
            "colorscale": [
             [
              0,
              "#0d0887"
             ],
             [
              0.1111111111111111,
              "#46039f"
             ],
             [
              0.2222222222222222,
              "#7201a8"
             ],
             [
              0.3333333333333333,
              "#9c179e"
             ],
             [
              0.4444444444444444,
              "#bd3786"
             ],
             [
              0.5555555555555556,
              "#d8576b"
             ],
             [
              0.6666666666666666,
              "#ed7953"
             ],
             [
              0.7777777777777778,
              "#fb9f3a"
             ],
             [
              0.8888888888888888,
              "#fdca26"
             ],
             [
              1,
              "#f0f921"
             ]
            ],
            "type": "heatmapgl"
           }
          ],
          "histogram": [
           {
            "marker": {
             "pattern": {
              "fillmode": "overlay",
              "size": 10,
              "solidity": 0.2
             }
            },
            "type": "histogram"
           }
          ],
          "histogram2d": [
           {
            "colorbar": {
             "outlinewidth": 0,
             "ticks": ""
            },
            "colorscale": [
             [
              0,
              "#0d0887"
             ],
             [
              0.1111111111111111,
              "#46039f"
             ],
             [
              0.2222222222222222,
              "#7201a8"
             ],
             [
              0.3333333333333333,
              "#9c179e"
             ],
             [
              0.4444444444444444,
              "#bd3786"
             ],
             [
              0.5555555555555556,
              "#d8576b"
             ],
             [
              0.6666666666666666,
              "#ed7953"
             ],
             [
              0.7777777777777778,
              "#fb9f3a"
             ],
             [
              0.8888888888888888,
              "#fdca26"
             ],
             [
              1,
              "#f0f921"
             ]
            ],
            "type": "histogram2d"
           }
          ],
          "histogram2dcontour": [
           {
            "colorbar": {
             "outlinewidth": 0,
             "ticks": ""
            },
            "colorscale": [
             [
              0,
              "#0d0887"
             ],
             [
              0.1111111111111111,
              "#46039f"
             ],
             [
              0.2222222222222222,
              "#7201a8"
             ],
             [
              0.3333333333333333,
              "#9c179e"
             ],
             [
              0.4444444444444444,
              "#bd3786"
             ],
             [
              0.5555555555555556,
              "#d8576b"
             ],
             [
              0.6666666666666666,
              "#ed7953"
             ],
             [
              0.7777777777777778,
              "#fb9f3a"
             ],
             [
              0.8888888888888888,
              "#fdca26"
             ],
             [
              1,
              "#f0f921"
             ]
            ],
            "type": "histogram2dcontour"
           }
          ],
          "mesh3d": [
           {
            "colorbar": {
             "outlinewidth": 0,
             "ticks": ""
            },
            "type": "mesh3d"
           }
          ],
          "parcoords": [
           {
            "line": {
             "colorbar": {
              "outlinewidth": 0,
              "ticks": ""
             }
            },
            "type": "parcoords"
           }
          ],
          "pie": [
           {
            "automargin": true,
            "type": "pie"
           }
          ],
          "scatter": [
           {
            "fillpattern": {
             "fillmode": "overlay",
             "size": 10,
             "solidity": 0.2
            },
            "type": "scatter"
           }
          ],
          "scatter3d": [
           {
            "line": {
             "colorbar": {
              "outlinewidth": 0,
              "ticks": ""
             }
            },
            "marker": {
             "colorbar": {
              "outlinewidth": 0,
              "ticks": ""
             }
            },
            "type": "scatter3d"
           }
          ],
          "scattercarpet": [
           {
            "marker": {
             "colorbar": {
              "outlinewidth": 0,
              "ticks": ""
             }
            },
            "type": "scattercarpet"
           }
          ],
          "scattergeo": [
           {
            "marker": {
             "colorbar": {
              "outlinewidth": 0,
              "ticks": ""
             }
            },
            "type": "scattergeo"
           }
          ],
          "scattergl": [
           {
            "marker": {
             "colorbar": {
              "outlinewidth": 0,
              "ticks": ""
             }
            },
            "type": "scattergl"
           }
          ],
          "scattermapbox": [
           {
            "marker": {
             "colorbar": {
              "outlinewidth": 0,
              "ticks": ""
             }
            },
            "type": "scattermapbox"
           }
          ],
          "scatterpolar": [
           {
            "marker": {
             "colorbar": {
              "outlinewidth": 0,
              "ticks": ""
             }
            },
            "type": "scatterpolar"
           }
          ],
          "scatterpolargl": [
           {
            "marker": {
             "colorbar": {
              "outlinewidth": 0,
              "ticks": ""
             }
            },
            "type": "scatterpolargl"
           }
          ],
          "scatterternary": [
           {
            "marker": {
             "colorbar": {
              "outlinewidth": 0,
              "ticks": ""
             }
            },
            "type": "scatterternary"
           }
          ],
          "surface": [
           {
            "colorbar": {
             "outlinewidth": 0,
             "ticks": ""
            },
            "colorscale": [
             [
              0,
              "#0d0887"
             ],
             [
              0.1111111111111111,
              "#46039f"
             ],
             [
              0.2222222222222222,
              "#7201a8"
             ],
             [
              0.3333333333333333,
              "#9c179e"
             ],
             [
              0.4444444444444444,
              "#bd3786"
             ],
             [
              0.5555555555555556,
              "#d8576b"
             ],
             [
              0.6666666666666666,
              "#ed7953"
             ],
             [
              0.7777777777777778,
              "#fb9f3a"
             ],
             [
              0.8888888888888888,
              "#fdca26"
             ],
             [
              1,
              "#f0f921"
             ]
            ],
            "type": "surface"
           }
          ],
          "table": [
           {
            "cells": {
             "fill": {
              "color": "#EBF0F8"
             },
             "line": {
              "color": "white"
             }
            },
            "header": {
             "fill": {
              "color": "#C8D4E3"
             },
             "line": {
              "color": "white"
             }
            },
            "type": "table"
           }
          ]
         },
         "layout": {
          "annotationdefaults": {
           "arrowcolor": "#2a3f5f",
           "arrowhead": 0,
           "arrowwidth": 1
          },
          "autotypenumbers": "strict",
          "coloraxis": {
           "colorbar": {
            "outlinewidth": 0,
            "ticks": ""
           }
          },
          "colorscale": {
           "diverging": [
            [
             0,
             "#8e0152"
            ],
            [
             0.1,
             "#c51b7d"
            ],
            [
             0.2,
             "#de77ae"
            ],
            [
             0.3,
             "#f1b6da"
            ],
            [
             0.4,
             "#fde0ef"
            ],
            [
             0.5,
             "#f7f7f7"
            ],
            [
             0.6,
             "#e6f5d0"
            ],
            [
             0.7,
             "#b8e186"
            ],
            [
             0.8,
             "#7fbc41"
            ],
            [
             0.9,
             "#4d9221"
            ],
            [
             1,
             "#276419"
            ]
           ],
           "sequential": [
            [
             0,
             "#0d0887"
            ],
            [
             0.1111111111111111,
             "#46039f"
            ],
            [
             0.2222222222222222,
             "#7201a8"
            ],
            [
             0.3333333333333333,
             "#9c179e"
            ],
            [
             0.4444444444444444,
             "#bd3786"
            ],
            [
             0.5555555555555556,
             "#d8576b"
            ],
            [
             0.6666666666666666,
             "#ed7953"
            ],
            [
             0.7777777777777778,
             "#fb9f3a"
            ],
            [
             0.8888888888888888,
             "#fdca26"
            ],
            [
             1,
             "#f0f921"
            ]
           ],
           "sequentialminus": [
            [
             0,
             "#0d0887"
            ],
            [
             0.1111111111111111,
             "#46039f"
            ],
            [
             0.2222222222222222,
             "#7201a8"
            ],
            [
             0.3333333333333333,
             "#9c179e"
            ],
            [
             0.4444444444444444,
             "#bd3786"
            ],
            [
             0.5555555555555556,
             "#d8576b"
            ],
            [
             0.6666666666666666,
             "#ed7953"
            ],
            [
             0.7777777777777778,
             "#fb9f3a"
            ],
            [
             0.8888888888888888,
             "#fdca26"
            ],
            [
             1,
             "#f0f921"
            ]
           ]
          },
          "colorway": [
           "#636efa",
           "#EF553B",
           "#00cc96",
           "#ab63fa",
           "#FFA15A",
           "#19d3f3",
           "#FF6692",
           "#B6E880",
           "#FF97FF",
           "#FECB52"
          ],
          "font": {
           "color": "#2a3f5f"
          },
          "geo": {
           "bgcolor": "white",
           "lakecolor": "white",
           "landcolor": "#E5ECF6",
           "showlakes": true,
           "showland": true,
           "subunitcolor": "white"
          },
          "hoverlabel": {
           "align": "left"
          },
          "hovermode": "closest",
          "mapbox": {
           "style": "light"
          },
          "paper_bgcolor": "white",
          "plot_bgcolor": "#E5ECF6",
          "polar": {
           "angularaxis": {
            "gridcolor": "white",
            "linecolor": "white",
            "ticks": ""
           },
           "bgcolor": "#E5ECF6",
           "radialaxis": {
            "gridcolor": "white",
            "linecolor": "white",
            "ticks": ""
           }
          },
          "scene": {
           "xaxis": {
            "backgroundcolor": "#E5ECF6",
            "gridcolor": "white",
            "gridwidth": 2,
            "linecolor": "white",
            "showbackground": true,
            "ticks": "",
            "zerolinecolor": "white"
           },
           "yaxis": {
            "backgroundcolor": "#E5ECF6",
            "gridcolor": "white",
            "gridwidth": 2,
            "linecolor": "white",
            "showbackground": true,
            "ticks": "",
            "zerolinecolor": "white"
           },
           "zaxis": {
            "backgroundcolor": "#E5ECF6",
            "gridcolor": "white",
            "gridwidth": 2,
            "linecolor": "white",
            "showbackground": true,
            "ticks": "",
            "zerolinecolor": "white"
           }
          },
          "shapedefaults": {
           "line": {
            "color": "#2a3f5f"
           }
          },
          "ternary": {
           "aaxis": {
            "gridcolor": "white",
            "linecolor": "white",
            "ticks": ""
           },
           "baxis": {
            "gridcolor": "white",
            "linecolor": "white",
            "ticks": ""
           },
           "bgcolor": "#E5ECF6",
           "caxis": {
            "gridcolor": "white",
            "linecolor": "white",
            "ticks": ""
           }
          },
          "title": {
           "x": 0.05
          },
          "xaxis": {
           "automargin": true,
           "gridcolor": "white",
           "linecolor": "white",
           "ticks": "",
           "title": {
            "standoff": 15
           },
           "zerolinecolor": "white",
           "zerolinewidth": 2
          },
          "yaxis": {
           "automargin": true,
           "gridcolor": "white",
           "linecolor": "white",
           "ticks": "",
           "title": {
            "standoff": 15
           },
           "zerolinecolor": "white",
           "zerolinewidth": 2
          }
         }
        },
        "xaxis": {
         "anchor": "y",
         "domain": [
          0,
          1
         ],
         "title": {
          "text": "Episode"
         }
        },
        "yaxis": {
         "anchor": "x",
         "domain": [
          0,
          1
         ],
         "title": {
          "text": "Score"
         }
        }
       }
      }
     },
     "metadata": {},
     "output_type": "display_data"
    }
   ],
   "source": [
    "data = scores\n",
    "fig = px.line(x=range(len(data)), y=data, labels={'x': 'Episode', 'y': 'Score'})\n",
    "fig.show()"
   ]
  },
  {
   "cell_type": "markdown",
   "metadata": {},
   "source": [
    "### Playing the game using a trained model"
   ]
  },
  {
   "cell_type": "code",
   "execution_count": 29,
   "metadata": {},
   "outputs": [],
   "source": [
    "agent.load(\"./models/best.h5\")"
   ]
  },
  {
   "cell_type": "code",
   "execution_count": 30,
   "metadata": {},
   "outputs": [
    {
     "data": {
      "application/vnd.jupyter.widget-view+json": {
       "model_id": "55599f3fd620402cab827ad383769851",
       "version_major": 2,
       "version_minor": 0
      },
      "text/plain": [
       "Text(value='score: 0')"
      ]
     },
     "metadata": {},
     "output_type": "display_data"
    },
    {
     "data": {
      "application/vnd.jupyter.widget-view+json": {
       "model_id": "8ed3d840a3c94ebc8c9a130de862abf3",
       "version_major": 2,
       "version_minor": 0
      },
      "text/plain": [
       "Text(value='score: 0')"
      ]
     },
     "metadata": {},
     "output_type": "display_data"
    },
    {
     "data": {
      "application/vnd.jupyter.widget-view+json": {
       "model_id": "e8c8ad4469e14486915a4acd2d3ac30b",
       "version_major": 2,
       "version_minor": 0
      },
      "text/plain": [
       "Text(value='score: 0')"
      ]
     },
     "metadata": {},
     "output_type": "display_data"
    },
    {
     "ename": "KeyboardInterrupt",
     "evalue": "",
     "output_type": "error",
     "traceback": [
      "\u001b[1;31m---------------------------------------------------------------------------\u001b[0m",
      "\u001b[1;31mKeyboardInterrupt\u001b[0m                         Traceback (most recent call last)",
      "\u001b[1;32m~\\AppData\\Local\\Temp\\ipykernel_13436\\1976346879.py\u001b[0m in \u001b[0;36m<module>\u001b[1;34m\u001b[0m\n\u001b[0;32m     17\u001b[0m         \u001b[0mtext_widget\u001b[0m\u001b[1;33m.\u001b[0m\u001b[0mvalue\u001b[0m \u001b[1;33m=\u001b[0m \u001b[1;34mf\"score: {score}\"\u001b[0m\u001b[1;33m\u001b[0m\u001b[1;33m\u001b[0m\u001b[0m\n\u001b[0;32m     18\u001b[0m \u001b[1;33m\u001b[0m\u001b[0m\n\u001b[1;32m---> 19\u001b[1;33m         \u001b[0mtime\u001b[0m\u001b[1;33m.\u001b[0m\u001b[0msleep\u001b[0m\u001b[1;33m(\u001b[0m\u001b[0mmax\u001b[0m\u001b[1;33m(\u001b[0m\u001b[1;36m1\u001b[0m\u001b[1;33m/\u001b[0m\u001b[1;36m24\u001b[0m \u001b[1;33m-\u001b[0m \u001b[1;33m(\u001b[0m\u001b[0mtime\u001b[0m\u001b[1;33m.\u001b[0m\u001b[0mtime\u001b[0m\u001b[1;33m(\u001b[0m\u001b[1;33m)\u001b[0m \u001b[1;33m-\u001b[0m \u001b[0mlast_time\u001b[0m\u001b[1;33m)\u001b[0m\u001b[1;33m,\u001b[0m \u001b[1;36m0\u001b[0m\u001b[1;33m)\u001b[0m\u001b[1;33m)\u001b[0m\u001b[1;33m\u001b[0m\u001b[1;33m\u001b[0m\u001b[0m\n\u001b[0m\u001b[0;32m     20\u001b[0m \u001b[1;33m\u001b[0m\u001b[0m\n\u001b[0;32m     21\u001b[0m \u001b[0menv\u001b[0m\u001b[1;33m.\u001b[0m\u001b[0mclose\u001b[0m\u001b[1;33m(\u001b[0m\u001b[1;33m)\u001b[0m\u001b[1;33m\u001b[0m\u001b[1;33m\u001b[0m\u001b[0m\n",
      "\u001b[1;31mKeyboardInterrupt\u001b[0m: "
     ]
    }
   ],
   "source": [
    "env = gym.make('CartPole-v1', render_mode='human')\n",
    "\n",
    "for i in range(5):\n",
    "    (state, _), done, _ = env.reset(), False, 0\n",
    "    score = 0\n",
    "    \n",
    "    text_widget = widgets.Text(value=f\"score: {score}\")\n",
    "    display(text_widget)\n",
    "    \n",
    "    while not done:\n",
    "        last_time = time.time()\n",
    "        \n",
    "        action = agent.act(state, train=False)\n",
    "        state, _, done, _, _ = env.step(action)\n",
    "        \n",
    "        score += 1\n",
    "        text_widget.value = f\"score: {score}\"\n",
    "        \n",
    "        time.sleep(max(1/24 - (time.time() - last_time), 0))\n",
    "        \n",
    "env.close()"
   ]
  },
  {
   "cell_type": "code",
   "execution_count": null,
   "metadata": {},
   "outputs": [],
   "source": []
  }
 ],
 "metadata": {
  "kernelspec": {
   "display_name": "Python 3 (ipykernel)",
   "language": "python",
   "name": "python3"
  },
  "language_info": {
   "codemirror_mode": {
    "name": "ipython",
    "version": 3
   },
   "file_extension": ".py",
   "mimetype": "text/x-python",
   "name": "python",
   "nbconvert_exporter": "python",
   "pygments_lexer": "ipython3",
   "version": "3.9.13"
  }
 },
 "nbformat": 4,
 "nbformat_minor": 5
}
